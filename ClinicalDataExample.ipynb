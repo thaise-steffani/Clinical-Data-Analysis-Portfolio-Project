{
  "nbformat": 4,
  "nbformat_minor": 0,
  "metadata": {
    "colab": {
      "provenance": [],
      "authorship_tag": "ABX9TyMGaBnf8sFQJfL5ytD+zGAU",
      "include_colab_link": true
    },
    "kernelspec": {
      "name": "python3",
      "display_name": "Python 3"
    },
    "language_info": {
      "name": "python"
    }
  },
  "cells": [
    {
      "cell_type": "markdown",
      "metadata": {
        "id": "view-in-github",
        "colab_type": "text"
      },
      "source": [
        "<a href=\"https://colab.research.google.com/github/thaise-steffani/Clinical-Data-Analysis-Portfolio-Project/blob/main/ClinicalDataExample.ipynb\" target=\"_parent\"><img src=\"https://colab.research.google.com/assets/colab-badge.svg\" alt=\"Open In Colab\"/></a>"
      ]
    },
    {
      "cell_type": "code",
      "source": [
        "!pip install reportlab"
      ],
      "metadata": {
        "colab": {
          "base_uri": "https://localhost:8080/"
        },
        "id": "82vpxxZHsvmi",
        "outputId": "c467d09a-8efc-4406-a9b0-4f13e00352c3"
      },
      "execution_count": 31,
      "outputs": [
        {
          "output_type": "stream",
          "name": "stdout",
          "text": [
            "Requirement already satisfied: reportlab in /usr/local/lib/python3.12/dist-packages (4.4.3)\n",
            "Requirement already satisfied: pillow>=9.0.0 in /usr/local/lib/python3.12/dist-packages (from reportlab) (11.3.0)\n",
            "Requirement already satisfied: charset-normalizer in /usr/local/lib/python3.12/dist-packages (from reportlab) (3.4.3)\n"
          ]
        }
      ]
    },
    {
      "cell_type": "code",
      "execution_count": 32,
      "metadata": {
        "id": "lsqzLB38eIHT"
      },
      "outputs": [],
      "source": [
        "import pandas as pd\n",
        "import matplotlib.pyplot as plt\n",
        "from reportlab.platypus import SimpleDocTemplate, Paragraph, Spacer, Table, TableStyle, Image\n",
        "from reportlab.lib.styles import getSampleStyleSheet\n",
        "from reportlab.lib import colors"
      ]
    },
    {
      "cell_type": "code",
      "source": [
        "#\n",
        "# 1. Create example dataset\n",
        "\n",
        "# Load the dataset from github\n",
        "url = \"https://raw.githubusercontent.com/thaise-steffani/Clinical-Data-Analysis-Portfolio-Project/main/clinical_trial_mock_data.csv\"\n",
        "df = pd.read_csv(url)\n",
        "\n",
        "# Quick check\n",
        "print(df.head())\n",
        "print(df.info())"
      ],
      "metadata": {
        "colab": {
          "base_uri": "https://localhost:8080/"
        },
        "id": "lNxAxxfhsZtc",
        "outputId": "716a9ec5-55c0-4e17-cc47-6e88a33e9bef"
      },
      "execution_count": 33,
      "outputs": [
        {
          "output_type": "stream",
          "name": "stdout",
          "text": [
            "  patient_id  age     sex treatment_group  baseline_score  outcome_score  \\\n",
            "0       P001   25    Male       Treatment            55.0             55   \n",
            "1       P002   17  Female         Placebo            48.6             60   \n",
            "2       P003   34    Male       Treatment            56.5             48   \n",
            "3       P004   45  Female         Placebo            65.2             53   \n",
            "4       P005   60    Male       Treatment            47.7             49   \n",
            "\n",
            "  adverse_event  \n",
            "0           NaN  \n",
            "1     Pregnancy  \n",
            "2          Mild  \n",
            "3        Severe  \n",
            "4          Mild  \n",
            "<class 'pandas.core.frame.DataFrame'>\n",
            "RangeIndex: 20 entries, 0 to 19\n",
            "Data columns (total 7 columns):\n",
            " #   Column           Non-Null Count  Dtype  \n",
            "---  ------           --------------  -----  \n",
            " 0   patient_id       20 non-null     object \n",
            " 1   age              20 non-null     int64  \n",
            " 2   sex              20 non-null     object \n",
            " 3   treatment_group  20 non-null     object \n",
            " 4   baseline_score   20 non-null     float64\n",
            " 5   outcome_score    20 non-null     int64  \n",
            " 6   adverse_event    15 non-null     object \n",
            "dtypes: float64(1), int64(2), object(4)\n",
            "memory usage: 1.2+ KB\n",
            "None\n"
          ]
        }
      ]
    },
    {
      "cell_type": "code",
      "source": [
        "#\n",
        "# 2. Data validation rules (edit checks)\n",
        "\n",
        "# Rule 1: Adverse events should not be missing\n",
        "missing_adverse = df[df['adverse_event'].isna()]\n",
        "\n",
        "# Rule 2: Male patients cannot have Pregnancy AE\n",
        "invalid_pregnancy = df[(df['adverse_event'] == \"Pregnancy\") & (df['sex'] == \"Male\")]\n",
        "\n",
        "# Rule 3: Age must be >= 18\n",
        "invalid_age = df[df['age'] < 18]\n",
        "\n",
        "# Rule 4: AE severity check (assuming values \"None\", \"Mild\", \"Severe\")\n",
        "allowed_ae = [\"None\", \"Mild\", \"Severe\"]\n",
        "invalid_ae = df[~df['adverse_event'].isin(allowed_ae) & df['adverse_event'].notna()]\n",
        "\n",
        "# Rule 5: Outcome score cannot be negative (example numeric check)\n",
        "invalid_outcome_score = df[df['outcome_score'] < 0]"
      ],
      "metadata": {
        "id": "-YHLXZVzrwK9"
      },
      "execution_count": 34,
      "outputs": []
    },
    {
      "cell_type": "code",
      "source": [
        "#\n",
        "# 3. Create validation summary report\n",
        "\n",
        "validation_report = pd.DataFrame({\n",
        "    \"Validation Rule\": [\n",
        "        \"Missing Adverse Event\",\n",
        "        \"Male Pregnancy Case\",\n",
        "        \"Invalid Age (<18)\",\n",
        "        \"Invalid Adverse Event Value\",\n",
        "        \"Negative Outcome Score\"\n",
        "    ],\n",
        "    \"Number of Issues\": [\n",
        "        len(missing_adverse),\n",
        "        len(invalid_pregnancy),\n",
        "        len(invalid_age),\n",
        "        len(invalid_ae),\n",
        "        len(invalid_outcome_score)\n",
        "    ],\n",
        "       \"Example Patient IDs\": [\n",
        "        ', '.join(missing_adverse['patient_id'].astype(str).tolist()) or \"None\",\n",
        "        ', '.join(invalid_pregnancy['patient_id'].astype(str).tolist()) or \"None\",\n",
        "        ', '.join(invalid_age['patient_id'].astype(str).tolist()) or \"None\",\n",
        "        ', '.join(invalid_ae['patient_id'].astype(str).tolist()) or \"None\",\n",
        "        ', '.join(invalid_outcome_score['patient_id'].astype(str).tolist()) or \"None\"\n",
        "    ]\n",
        "})"
      ],
      "metadata": {
        "id": "TfS9zivor4r-"
      },
      "execution_count": 35,
      "outputs": []
    },
    {
      "cell_type": "code",
      "source": [
        "\n",
        "# 4. Visualization of AEs by Treatment Arm\n",
        "\n",
        "ae_counts = df.groupby([\"treatment_group\", \"adverse_event\"]).size().unstack(fill_value=0)\n",
        "\n",
        "print(\"\\nAdverse events count:\")\n",
        "print(ae_counts)\n",
        "\n",
        "# Save plot for PDF\n",
        "plt.figure(figsize=(10,6))\n",
        "ae_counts.plot(kind=\"bar\", stacked=True, figsize=(10,6))\n",
        "plt.title(\"Adverse Events by Treatment Arm\")\n",
        "plt.xlabel(\"Treatment Arm\")\n",
        "plt.ylabel(\"Number of Adverse Events\")\n",
        "plt.legend(title=\"Adverse Event\")\n",
        "plt.tight_layout()\n",
        "plt.savefig(\"ae_plot.png\")\n",
        "plt.close()"
      ],
      "metadata": {
        "colab": {
          "base_uri": "https://localhost:8080/",
          "height": 136
        },
        "id": "N4-Fk7T8r7aZ",
        "outputId": "0173fdf6-27f5-43ba-9705-11d7b3d98909"
      },
      "execution_count": 36,
      "outputs": [
        {
          "output_type": "stream",
          "name": "stdout",
          "text": [
            "\n",
            "Adverse events count:\n",
            "adverse_event    Mild  Moderate  Pregnancy  Severe\n",
            "treatment_group                                   \n",
            "Placebo             2         1          1       4\n",
            "Treatment           4         1          2       0\n"
          ]
        },
        {
          "output_type": "display_data",
          "data": {
            "text/plain": [
              "<Figure size 1000x600 with 0 Axes>"
            ]
          },
          "metadata": {}
        }
      ]
    },
    {
      "cell_type": "code",
      "source": [
        "#\n",
        "#\n",
        "# 5. Generate Professional PDF Report\n",
        "\n",
        "doc = SimpleDocTemplate(\"Clinical_Data_Validation_Report.pdf\")\n",
        "styles = getSampleStyleSheet()\n",
        "story = []\n",
        "\n",
        "# Title\n",
        "story.append(Paragraph(\"Clinical Data Validation Report – Phase II Mock Study\", styles['Title']))\n",
        "story.append(Spacer(1, 12))\n",
        "\n",
        "# Summary\n",
        "summary_text = f\"\"\"\n",
        "This report presents the results of a data quality review performed on a mock Phase II clinical trial dataset\n",
        "({len(df)} patients). Data validation focused on patient demographics, adverse events, and outcome scores.\n",
        "\"\"\"\n",
        "story.append(Paragraph(summary_text, styles['Normal']))\n",
        "story.append(Spacer(1, 12))\n",
        "\n",
        "# Validation Table\n",
        "table_data = [[\"Validation Rule\", \"Number of Issues\", \"Patient ID\"]] + validation_report.values.tolist()\n",
        "table = Table(table_data, hAlign=\"LEFT\")\n",
        "table.setStyle(TableStyle([\n",
        "    ('BACKGROUND', (0,0), (-1,0), colors.grey),\n",
        "    ('TEXTCOLOR',(0,0),(-1,0),colors.whitesmoke),\n",
        "    ('ALIGN',(0,0),(-1,-1),'CENTER'),\n",
        "    ('FONTNAME', (0,0), (-1,0), 'Helvetica-Bold'),\n",
        "    ('BOTTOMPADDING', (0,0), (-1,0), 12),\n",
        "    ('GRID', (0,0), (-1,-1), 1, colors.black),\n",
        "]))\n",
        "story.append(Paragraph(\"Validation Summary:\", styles['Heading2']))\n",
        "story.append(table)\n",
        "story.append(Spacer(1, 12))\n",
        "\n",
        "# Add plot\n",
        "story.append(Paragraph(\"Adverse Events by Treatment Arm\", styles['Heading2']))\n",
        "story.append(Image(\"ae_plot.png\", width=400, height=300))\n",
        "story.append(Spacer(1, 12))\n",
        "\n",
        "# Conclusion\n",
        "conclusion_text = f\"\"\"\n",
        "Overall, the dataset demonstrates typical clinical data challenges, including missing or inconsistent adverse event data,\n",
        "patients below the legal age threshold (<18), and male pregnancy cases.\n",
        "These issues are highlighted in the validation table above with example patient IDs.\n",
        "\n",
        "Recommendations:\n",
        "- Resolve missing fields and correct logically inconsistent entries.\n",
        "- Implement edit checks and data validation rules in the EDC system.\n",
        "- Monitor adverse events and patient demographics carefully to maintain data integrity.\n",
        "\"\"\"\n",
        "story.append(Paragraph(conclusion_text, styles['Normal']))\n",
        "\n",
        "# Build PDF\n",
        "doc.build(story)\n",
        "\n",
        "print(\"\\nPDF Report generated: Clinical_Data_Validation_Report.pdf\")"
      ],
      "metadata": {
        "colab": {
          "base_uri": "https://localhost:8080/"
        },
        "id": "X7F3DZzjr9um",
        "outputId": "df40faac-f96c-4d7e-e981-e52be3d9df42"
      },
      "execution_count": 38,
      "outputs": [
        {
          "output_type": "stream",
          "name": "stdout",
          "text": [
            "\n",
            "PDF Report generated: Clinical_Data_Validation_Report.pdf\n"
          ]
        }
      ]
    }
  ]
}